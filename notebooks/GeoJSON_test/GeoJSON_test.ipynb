{
 "cells": [
  {
   "cell_type": "code",
   "execution_count": 1,
   "id": "sunset-undergraduate",
   "metadata": {},
   "outputs": [],
   "source": [
    "import nm510\n"
   ]
  },
  {
   "cell_type": "code",
   "execution_count": 2,
   "id": "soviet-landing",
   "metadata": {},
   "outputs": [
    {
     "data": {
      "application/vnd.jupyter.widget-view+json": {
       "model_id": "ccfb2f99f5ba4ceda0001413f67dcd0e",
       "version_major": 2,
       "version_minor": 0
      },
      "text/plain": [
       "Map(center=[40, -100], controls=(ZoomControl(options=['position', 'zoom_in_text', 'zoom_in_title', 'zoom_out_t…"
      ]
     },
     "metadata": {},
     "output_type": "display_data"
    }
   ],
   "source": [
    "m = nm510.Map()\n",
    "m"
   ]
  },
  {
   "cell_type": "code",
   "execution_count": 3,
   "id": "important-diagram",
   "metadata": {},
   "outputs": [],
   "source": [
    "in_geojson = \"./data/countries.json\""
   ]
  },
  {
   "cell_type": "code",
   "execution_count": 4,
   "id": "pretty-settle",
   "metadata": {},
   "outputs": [],
   "source": [
    "style = {\n",
    "    \"stroke\": True,\n",
    "    \"color\": \"#000000\",\n",
    "    \"weight\": 3,\n",
    "    \"opacity\": 0.8,\n",
    "    \"fill\": True,\n",
    "    \"fillColor\": \"#0000ff\",\n",
    "    \"fillOpacity\": 0.2,\n",
    "}"
   ]
  },
  {
   "cell_type": "code",
   "execution_count": 5,
   "id": "powerful-grace",
   "metadata": {},
   "outputs": [],
   "source": [
    "m.add_geojson(in_geojson, layer_name=\"countries\")"
   ]
  },
  {
   "cell_type": "code",
   "execution_count": null,
   "id": "activated-purple",
   "metadata": {},
   "outputs": [],
   "source": []
  }
 ],
 "metadata": {
  "kernelspec": {
   "display_name": "Python 3",
   "language": "python",
   "name": "python3"
  },
  "language_info": {
   "codemirror_mode": {
    "name": "ipython",
    "version": 3
   },
   "file_extension": ".py",
   "mimetype": "text/x-python",
   "name": "python",
   "nbconvert_exporter": "python",
   "pygments_lexer": "ipython3",
   "version": "3.8.8"
  }
 },
 "nbformat": 4,
 "nbformat_minor": 5
}
