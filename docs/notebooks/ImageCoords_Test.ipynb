{
 "cells": [
  {
   "cell_type": "code",
   "execution_count": 1,
   "id": "familiar-document",
   "metadata": {},
   "outputs": [],
   "source": [
    "import nm510"
   ]
  },
  {
   "cell_type": "code",
   "execution_count": 3,
   "id": "beginning-jimmy",
   "metadata": {},
   "outputs": [],
   "source": [
    "from nm510.photocoords import imgtag"
   ]
  },
  {
   "cell_type": "markdown",
   "id": "future-saskatchewan",
   "metadata": {},
   "source": [
    "The input is any JPEG or TIFF image. The package reads the metadata embedded in the file and returns the information relevant to photos taken as part of drone photogrammetry projects. Eventually the coordinates will be plotted on the map, but this function needs more work."
   ]
  },
  {
   "cell_type": "code",
   "execution_count": 4,
   "id": "boolean-internship",
   "metadata": {},
   "outputs": [
    {
     "name": "stdout",
     "output_type": "stream",
     "text": [
      "UAS Model: Anafi\n",
      "Capture Date: 2020:11:27 15:16:25\n",
      "Image resolution: 3456 x 4608\n",
      "Longitude: [87, 3, 37921089/5000000]\n",
      "Latitude: [30, 21, 13042903/1000000]\n"
     ]
    },
    {
     "data": {
      "application/vnd.jupyter.widget-view+json": {
       "model_id": "2cd334021a9840bc8d4e06d874e8d137",
       "version_major": 2,
       "version_minor": 0
      },
      "text/plain": [
       "Map(center=[40, -100], controls=(ZoomControl(options=['position', 'zoom_in_text', 'zoom_in_title', 'zoom_out_t…"
      ]
     },
     "metadata": {},
     "output_type": "display_data"
    }
   ],
   "source": [
    "imgtag(r'/Users/mckinney/nm510/docs/notebooks/data/img1.JPG')\n",
    "m = nm510.Map(center=[40,-100])\n",
    "m"
   ]
  },
  {
   "cell_type": "code",
   "execution_count": 5,
   "id": "canadian-builder",
   "metadata": {},
   "outputs": [
    {
     "name": "stdout",
     "output_type": "stream",
     "text": [
      "UAS Model: Anafi\n",
      "Capture Date: 2020:12:01 14:57:20\n",
      "Image resolution: 3456 x 4608\n",
      "Longitude: [90, 1, 12600227/250000]\n",
      "Latitude: [29, 57, 504232599/10000000]\n"
     ]
    },
    {
     "data": {
      "application/vnd.jupyter.widget-view+json": {
       "model_id": "3e79d431b4ec406497673d5aa2c9b870",
       "version_major": 2,
       "version_minor": 0
      },
      "text/plain": [
       "Map(center=[40, -100], controls=(ZoomControl(options=['position', 'zoom_in_text', 'zoom_in_title', 'zoom_out_t…"
      ]
     },
     "metadata": {},
     "output_type": "display_data"
    }
   ],
   "source": [
    "imgtag(r'/Users/mckinney/nm510/docs/notebooks/data/img2.JPG')\n",
    "m = nm510.Map(center=[40,-100])\n",
    "m"
   ]
  },
  {
   "cell_type": "code",
   "execution_count": 6,
   "id": "antique-imperial",
   "metadata": {},
   "outputs": [
    {
     "name": "stdout",
     "output_type": "stream",
     "text": [
      "UAS Model: Anafi\n",
      "Capture Date: 2020:02:16 16:50:47\n",
      "Image resolution: 4016 x 5344\n",
      "Longitude: [83, 24, 7118491/250000]\n",
      "Latitude: [36, 0, 16429371/1000000]\n"
     ]
    },
    {
     "data": {
      "application/vnd.jupyter.widget-view+json": {
       "model_id": "3bbf887cac024e95ad78d2203f24f570",
       "version_major": 2,
       "version_minor": 0
      },
      "text/plain": [
       "Map(center=[40, -100], controls=(ZoomControl(options=['position', 'zoom_in_text', 'zoom_in_title', 'zoom_out_t…"
      ]
     },
     "metadata": {},
     "output_type": "display_data"
    }
   ],
   "source": [
    "imgtag(r'/Users/mckinney/nm510/docs/notebooks/data/img3.JPG')\n",
    "m = nm510.Map(center=[40,-100])\n",
    "m"
   ]
  },
  {
   "cell_type": "code",
   "execution_count": null,
   "id": "several-wiring",
   "metadata": {},
   "outputs": [],
   "source": []
  },
  {
   "cell_type": "code",
   "execution_count": null,
   "id": "mineral-recognition",
   "metadata": {},
   "outputs": [],
   "source": []
  }
 ],
 "metadata": {
  "celltoolbar": "Raw Cell Format",
  "kernelspec": {
   "display_name": "Python 3",
   "language": "python",
   "name": "python3"
  },
  "language_info": {
   "codemirror_mode": {
    "name": "ipython",
    "version": 3
   },
   "file_extension": ".py",
   "mimetype": "text/x-python",
   "name": "python",
   "nbconvert_exporter": "python",
   "pygments_lexer": "ipython3",
   "version": "3.8.8"
  }
 },
 "nbformat": 4,
 "nbformat_minor": 5
}